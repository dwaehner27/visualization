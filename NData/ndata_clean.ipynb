import pandas as pd
import csv


chicago_path = "Resources/chicago.csv"
chicago_df = pd.read_csv(chicago_path)
nyc_path = "Resources/nyc.csv"
nyc_df = pd.read_csv(nyc_path)
seattle_path = "Resources/seattle_listings.csv"
seattle_df = pd.read_csv(seattle_path)

c_neigh=chicago_df['neighbourhood'].unique()
